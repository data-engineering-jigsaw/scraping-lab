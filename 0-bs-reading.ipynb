{
 "cells": [
  {
   "cell_type": "markdown",
   "id": "02254a23-16fb-49c5-ba73-2cb01cf0390d",
   "metadata": {},
   "source": [
    "# Scraping with Beautiful Soup"
   ]
  },
  {
   "cell_type": "markdown",
   "id": "6994c6c4-f999-41ff-a193-294f147ef69f",
   "metadata": {},
   "source": [
    "### Introduction"
   ]
  },
  {
   "cell_type": "markdown",
   "id": "504f59ce-f2d6-4a2f-9ffc-4b17b8aad905",
   "metadata": {},
   "source": [
    "In this lesson, we'll see how we can use the beautiful soup library to scrape a website.  With beautiful soup, we cannot interact directly with a website, but we can use it to easily parse our HTML."
   ]
  },
  {
   "cell_type": "markdown",
   "id": "079d36f8-4c47-469e-8935-10c1329edc7d",
   "metadata": {
    "tags": []
   },
   "source": [
    "### Beautiful Soup Basics"
   ]
  },
  {
   "cell_type": "markdown",
   "id": "69369db3-6aaf-4de5-aeb9-9f4cbddbaa82",
   "metadata": {},
   "source": [
    "With beautiful soup, we first use the Python `requests` library to get some HTML.  And then we can pass this HTML into beautiful soup for to select specific html.  Let's see a quick example, and then we'll use this in a lab."
   ]
  },
  {
   "cell_type": "markdown",
   "id": "59fd5571-de63-411a-b911-bdf4cb10dbc0",
   "metadata": {},
   "source": [
    "Let's practice by trying to get the title of the Wikipedia page for the The Beatles."
   ]
  },
  {
   "cell_type": "markdown",
   "id": "b447a55e-c517-4533-89e9-0b5eda5b1595",
   "metadata": {},
   "source": [
    "<img src=\"./beatles.png\" width=\"60%\">"
   ]
  },
  {
   "cell_type": "markdown",
   "id": "634292f9-1698-4142-a7dd-ea50d1e52940",
   "metadata": {},
   "source": [
    "Here's how we do so.  First, we make a request to the appropriate url, then we get back the HTML, and finally we pass that data into beautiful soup so that we can search through it."
   ]
  },
  {
   "cell_type": "code",
   "execution_count": 1,
   "id": "52dcba22-e90a-4a04-b65c-80049fe6b6d3",
   "metadata": {},
   "outputs": [],
   "source": [
    "import requests"
   ]
  },
  {
   "cell_type": "code",
   "execution_count": 16,
   "id": "0208c6a4-51d0-4ee2-8182-5cbf4cd224e4",
   "metadata": {},
   "outputs": [],
   "source": [
    "response = requests.get('https://en.wikipedia.org/wiki/The_Beatles')\n",
    "\n",
    "html = response.text"
   ]
  },
  {
   "cell_type": "markdown",
   "id": "9130ae4d-0a46-44d0-8caf-6ea66f943777",
   "metadata": {},
   "source": [
    "Now if we look at what we captured in the `html` variable, it is just one long string."
   ]
  },
  {
   "cell_type": "code",
   "execution_count": 5,
   "id": "251e99e8-ed8a-4793-a606-680ec864a318",
   "metadata": {},
   "outputs": [
    {
     "data": {
      "text/plain": [
       "'<!DOCTYPE html>\\n<html class=\"client-nojs\" lang=\"en'"
      ]
     },
     "execution_count": 5,
     "metadata": {},
     "output_type": "execute_result"
    }
   ],
   "source": [
    "html[:50]"
   ]
  },
  {
   "cell_type": "code",
   "execution_count": 6,
   "id": "469650fb-3911-4243-aa34-42250ba53bfa",
   "metadata": {},
   "outputs": [
    {
     "data": {
      "text/plain": [
       "str"
      ]
     },
     "execution_count": 6,
     "metadata": {},
     "output_type": "execute_result"
    }
   ],
   "source": [
    "type(html)"
   ]
  },
  {
   "cell_type": "markdown",
   "id": "f55e7012-52a1-4431-9fb6-67f8b1cc9bdd",
   "metadata": {},
   "source": [
    "Obviously, this would be no fun to search through.  However, we can pass this string into beautiful soup, and then use our CSS selectors to search through our HTML."
   ]
  },
  {
   "cell_type": "code",
   "execution_count": 7,
   "id": "361d599b-110c-4a21-b60a-7e53db74b612",
   "metadata": {},
   "outputs": [],
   "source": [
    "!pip install bs4 --quiet"
   ]
  },
  {
   "cell_type": "markdown",
   "id": "be4afff1-faf7-4a46-9c0e-df4dc9ba7e9a",
   "metadata": {},
   "source": [
    "Then we can import the `BeautifulSoup` function as bs, and specify the `html.parser`."
   ]
  },
  {
   "cell_type": "code",
   "execution_count": 21,
   "id": "ed854811-9b03-44f7-9b44-3df53ac09445",
   "metadata": {},
   "outputs": [],
   "source": [
    "from bs4 import BeautifulSoup as bs\n",
    "soup = bs(response.text, 'html.parser')"
   ]
  },
  {
   "cell_type": "markdown",
   "id": "81903d37-5bf5-48c1-ae7b-aa9e94caf8fd",
   "metadata": {},
   "source": [
    "Now our soup variable is a beautiful soup object that can be searched."
   ]
  },
  {
   "cell_type": "markdown",
   "id": "5478a7f3-ce69-41d3-85f3-5f2244e2afd2",
   "metadata": {},
   "source": [
    "So, for example, if we would like to find the html that has a class of `firstHeading`, we can do so with the following."
   ]
  },
  {
   "cell_type": "code",
   "execution_count": 25,
   "id": "bfaeda06-108a-42ed-bb6e-e5857c3a410b",
   "metadata": {},
   "outputs": [
    {
     "data": {
      "text/plain": [
       "[<h1 class=\"firstHeading\" id=\"firstHeading\">The Beatles</h1>]"
      ]
     },
     "execution_count": 25,
     "metadata": {},
     "output_type": "execute_result"
    }
   ],
   "source": [
    "soup.findAll('h1', {'class': 'firstHeading'})"
   ]
  },
  {
   "cell_type": "markdown",
   "id": "3735508f-ce05-430c-ad01-b406cccf4582",
   "metadata": {},
   "source": [
    "So with the `findAll` method, we pass through two arguments.  The first is `name` of the tag.  Above this is an `h1`.  And the second is any attributes.  \n",
    "\n",
    "HTML attributes are any items with an equals sign within our tag.  \n",
    "> Notice that they come in key value pairs just like our Python dictionary."
   ]
  },
  {
   "cell_type": "markdown",
   "id": "f538524f-bff6-4b9d-b911-79e1519f1c6e",
   "metadata": {},
   "source": [
    "So if we would like to select the HTML below."
   ]
  },
  {
   "cell_type": "markdown",
   "id": "892b5606-19fd-4236-b9f7-7acee01c2b79",
   "metadata": {},
   "source": [
    "<img src=\"./td-span.png\" width=\"60%\">"
   ]
  },
  {
   "cell_type": "markdown",
   "id": "945f283a-3eb2-443b-a79a-10c5a6c44f96",
   "metadata": {},
   "source": [
    "We can try to do so through the `colspan` attribute.  Doing so would look like the following:"
   ]
  },
  {
   "cell_type": "code",
   "execution_count": 30,
   "id": "aea2fc18-3b0f-46d0-b8ac-9d2d928a8ad7",
   "metadata": {},
   "outputs": [],
   "source": [
    "cols = soup.findAll('td', {'colspan': '2'})"
   ]
  },
  {
   "cell_type": "code",
   "execution_count": 31,
   "id": "8548798a-05aa-4c47-8894-24667fdafaff",
   "metadata": {},
   "outputs": [
    {
     "data": {
      "text/plain": [
       "<td class=\"infobox-image\" colspan=\"2\"><a class=\"image\" href=\"/wiki/File:The_Fabs.JPG\" title=\"A square quartered into four head shots of young men with moptop haircuts. All four wear white shirts and dark coats.\"><img alt=\"A square quartered into four head shots of young men with moptop haircuts. All four wear white shirts and dark coats.\" data-file-height=\"1110\" data-file-width=\"1110\" decoding=\"async\" height=\"220\" src=\"//upload.wikimedia.org/wikipedia/commons/thumb/d/df/The_Fabs.JPG/220px-The_Fabs.JPG\" srcset=\"//upload.wikimedia.org/wikipedia/commons/thumb/d/df/The_Fabs.JPG/330px-The_Fabs.JPG 1.5x, //upload.wikimedia.org/wikipedia/commons/thumb/d/df/The_Fabs.JPG/440px-The_Fabs.JPG 2x\" width=\"220\"/></a><div class=\"infobox-caption\">The Beatles in 1964; clockwise from top left: <a href=\"/wiki/John_Lennon\" title=\"John Lennon\">John Lennon</a>, <a href=\"/wiki/Paul_McCartney\" title=\"Paul McCartney\">Paul McCartney</a>, <a href=\"/wiki/Ringo_Starr\" title=\"Ringo Starr\">Ringo Starr</a> and <a href=\"/wiki/George_Harrison\" title=\"George Harrison\">George Harrison</a></div></td>"
      ]
     },
     "execution_count": 31,
     "metadata": {},
     "output_type": "execute_result"
    }
   ],
   "source": [
    "cols[0]"
   ]
  },
  {
   "cell_type": "markdown",
   "id": "1605a831-f87f-4915-aab5-d94d606b0fd3",
   "metadata": {},
   "source": [
    "So as you can see, we can really use any key value pairs that we see in our HTML."
   ]
  },
  {
   "cell_type": "markdown",
   "id": "64f4030f-5040-44a0-8509-20d24e2d6f35",
   "metadata": {},
   "source": [
    "And once we have selected an outer selection of HTML, we can continue on by searching that HTML for more detailed information.  For example, to find the information particular to John Lennon."
   ]
  },
  {
   "cell_type": "code",
   "execution_count": 36,
   "id": "0b11296c-dc51-4701-a6e0-af652e59c7c7",
   "metadata": {},
   "outputs": [
    {
     "data": {
      "text/plain": [
       "[<a href=\"/wiki/John_Lennon\" title=\"John Lennon\">John Lennon</a>]"
      ]
     },
     "execution_count": 36,
     "metadata": {},
     "output_type": "execute_result"
    }
   ],
   "source": [
    "john_lennon_hrefs = cols[0].findAll('a', {'title': 'John Lennon'})\n",
    "john_lennon_hrefs"
   ]
  },
  {
   "cell_type": "markdown",
   "id": "0aff045c-4697-4d04-8c6c-bb837e0721b0",
   "metadata": {},
   "source": [
    "And once we find the correct element, we can then access various attributes of that html directly."
   ]
  },
  {
   "cell_type": "code",
   "execution_count": 37,
   "id": "4ac05b5a-44cb-44c1-98cc-c7d56be62b8a",
   "metadata": {},
   "outputs": [
    {
     "data": {
      "text/plain": [
       "'John Lennon'"
      ]
     },
     "execution_count": 37,
     "metadata": {},
     "output_type": "execute_result"
    }
   ],
   "source": [
    "john_lennon_hrefs[0].text"
   ]
  },
  {
   "cell_type": "code",
   "execution_count": 43,
   "id": "4f6581c3-af53-421a-8eba-ca80fb05f86d",
   "metadata": {},
   "outputs": [
    {
     "data": {
      "text/plain": [
       "'/wiki/John_Lennon'"
      ]
     },
     "execution_count": 43,
     "metadata": {},
     "output_type": "execute_result"
    }
   ],
   "source": [
    "john_lennon_hrefs[0]['href']"
   ]
  },
  {
   "cell_type": "code",
   "execution_count": 44,
   "id": "b0e808c8-7080-4fb6-8fe7-83662f89bcf7",
   "metadata": {},
   "outputs": [
    {
     "data": {
      "text/plain": [
       "'John Lennon'"
      ]
     },
     "execution_count": 44,
     "metadata": {},
     "output_type": "execute_result"
    }
   ],
   "source": [
    "john_lennon_hrefs[0]['title']"
   ]
  },
  {
   "cell_type": "markdown",
   "id": "86547f68-e297-4294-8625-cff6413d1f18",
   "metadata": {},
   "source": [
    "### Summary"
   ]
  },
  {
   "cell_type": "markdown",
   "id": "9a5b461f-e6b9-4ec0-9b97-d686f8c3887b",
   "metadata": {},
   "source": [
    "In this lesson, we saw how we can use the beautiful soup libary.  We saw that we can do so by first making a request to the relevant url, and then extracting the text."
   ]
  },
  {
   "cell_type": "code",
   "execution_count": 45,
   "id": "5c7ce3ef-4fbb-498a-bbff-8309ff52dcd7",
   "metadata": {},
   "outputs": [],
   "source": [
    "response = requests.get('https://en.wikipedia.org/wiki/The_Beatles')\n",
    "\n",
    "html = response.text"
   ]
  },
  {
   "cell_type": "markdown",
   "id": "81c46cea-afe4-4c96-918f-87f3f752d790",
   "metadata": {},
   "source": [
    "This returns a string, which we can then pass into beautiful soup to more easily parse."
   ]
  },
  {
   "cell_type": "code",
   "execution_count": 47,
   "id": "094fbf22-06e6-4a5f-b7bf-372621efa2d6",
   "metadata": {},
   "outputs": [],
   "source": [
    "from bs4 import BeautifulSoup as bs\n",
    "soup = bs(html, 'html.parser')"
   ]
  },
  {
   "cell_type": "markdown",
   "id": "778a14f6-598b-4a26-bd0d-94c282a3a585",
   "metadata": {},
   "source": [
    "And from there, we can use the findAll method, which takes both the tag name and key value pairs of any attributes in the HTML."
   ]
  },
  {
   "cell_type": "code",
   "execution_count": 49,
   "id": "9fcc5147-12a6-48b8-81a1-e803ccffae45",
   "metadata": {},
   "outputs": [],
   "source": [
    "cols = soup.findAll('td', {'colspan': '2'})"
   ]
  },
  {
   "cell_type": "markdown",
   "id": "bc343dd8-bce9-4154-a156-4ab8b79b4c2d",
   "metadata": {},
   "source": [
    "And we extract find specific attribute values in the selected HTML by specifying the relevant key."
   ]
  },
  {
   "cell_type": "code",
   "execution_count": 51,
   "id": "30ee8ab1-dd78-4e93-9577-d44629636193",
   "metadata": {},
   "outputs": [
    {
     "data": {
      "text/plain": [
       "['infobox-image']"
      ]
     },
     "execution_count": 51,
     "metadata": {},
     "output_type": "execute_result"
    }
   ],
   "source": [
    "cols[0]['class']"
   ]
  },
  {
   "cell_type": "markdown",
   "id": "bba3e770-cec2-451f-8e23-2bced5c97976",
   "metadata": {},
   "source": [
    "Or if we prefer, we can also retrieve the text."
   ]
  },
  {
   "cell_type": "code",
   "execution_count": 52,
   "id": "0ad69a7c-f25c-4bea-bf29-b8573039080b",
   "metadata": {},
   "outputs": [
    {
     "data": {
      "text/plain": [
       "'The Beatles in 1964; clockwise from top left: John Lennon, Paul McCartney, Ringo Starr and George Harrison'"
      ]
     },
     "execution_count": 52,
     "metadata": {},
     "output_type": "execute_result"
    }
   ],
   "source": [
    "cols[0].text"
   ]
  }
 ],
 "metadata": {
  "kernelspec": {
   "display_name": "Python 3 (ipykernel)",
   "language": "python",
   "name": "python3"
  },
  "language_info": {
   "codemirror_mode": {
    "name": "ipython",
    "version": 3
   },
   "file_extension": ".py",
   "mimetype": "text/x-python",
   "name": "python",
   "nbconvert_exporter": "python",
   "pygments_lexer": "ipython3",
   "version": "3.9.7"
  }
 },
 "nbformat": 4,
 "nbformat_minor": 5
}
